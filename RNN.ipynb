{
  "nbformat": 4,
  "nbformat_minor": 0,
  "metadata": {
    "colab": {
      "provenance": [],
      "gpuType": "T4",
      "authorship_tag": "ABX9TyMN357UqljyQfj7czww2z1D",
      "include_colab_link": true
    },
    "kernelspec": {
      "name": "python3",
      "display_name": "Python 3"
    },
    "language_info": {
      "name": "python"
    },
    "accelerator": "GPU"
  },
  "cells": [
    {
      "cell_type": "markdown",
      "metadata": {
        "id": "view-in-github",
        "colab_type": "text"
      },
      "source": [
        "<a href=\"https://colab.research.google.com/github/ChoeTaeBin/Machine-Learnig/blob/main/RNN.ipynb\" target=\"_parent\"><img src=\"https://colab.research.google.com/assets/colab-badge.svg\" alt=\"Open In Colab\"/></a>"
      ]
    },
    {
      "cell_type": "markdown",
      "source": [
        "순환 신경망은 순차데이터에 잘맞는 인공신경망이다. 이전 토큰에대한 출력을 현재 토큰에 대한 계산을 할때 포함 시킨다.\n",
        "뒤로 순환신경망이 또 이어질때는 모든토크에대한 결과를 출력한다."
      ],
      "metadata": {
        "id": "QiqcJIkN3EqC"
      }
    },
    {
      "cell_type": "code",
      "execution_count": 16,
      "metadata": {
        "colab": {
          "base_uri": "https://localhost:8080/"
        },
        "id": "lw_4E0G72_Sz",
        "outputId": "e89f1edd-1052-4262-8dac-932911580bc4"
      },
      "outputs": [
        {
          "output_type": "stream",
          "name": "stdout",
          "text": [
            "(25000,) (25000,)\n"
          ]
        }
      ],
      "source": [
        "#data준비\n",
        "from tensorflow.keras.datasets import imdb\n",
        "\n",
        "(train_input, train_target), (test_input, test_target) = imdb.load_data(num_words = 300) #사전을 300단어로 함\n",
        "print(train_input.shape, test_input.shape)"
      ]
    },
    {
      "cell_type": "code",
      "source": [
        "#검증세트 분리\n",
        "from sklearn.model_selection import train_test_split\n",
        "\n",
        "train_input, val_input, train_target, val_target = train_test_split(train_input, train_target, test_size = 0.2, random_state = 42)\n",
        "print(train_input.shape, val_input.shape)\n",
        "print(train_target.shape, val_target.shape)"
      ],
      "metadata": {
        "colab": {
          "base_uri": "https://localhost:8080/"
        },
        "id": "Jp86uiZS42Sw",
        "outputId": "81474e4b-2f99-4c86-f7e3-3facc93b6323"
      },
      "execution_count": 17,
      "outputs": [
        {
          "output_type": "stream",
          "name": "stdout",
          "text": [
            "(20000,) (5000,)\n",
            "(20000,) (5000,)\n"
          ]
        }
      ]
    },
    {
      "cell_type": "code",
      "source": [
        "#길이 맞추기\n",
        "from tensorflow.keras.preprocessing.sequence import pad_sequences\n",
        "\n",
        "train_seq = pad_sequences(train_input, maxlen = 100) #길이를 100으로 맞춤\n",
        "val_seq = pad_sequences(val_input, maxlen = 100)"
      ],
      "metadata": {
        "id": "gU6O72mL5enG"
      },
      "execution_count": 18,
      "outputs": []
    },
    {
      "cell_type": "code",
      "source": [
        "#단어 임베딩을 이용해서 순환 신경망 만들기\n",
        "from tensorflow import keras\n",
        "\n",
        "model = keras.Sequential()\n",
        "model.add(keras.layers.Embedding(300, 16, input_length = 100)) #임베딩층\n",
        "model.add(keras.layers.SimpleRNN(8)) #8개 셀\n",
        "model.add(keras.layers.Dense(1, activation='sigmoid'))\n",
        "\n",
        "model.summary()"
      ],
      "metadata": {
        "colab": {
          "base_uri": "https://localhost:8080/"
        },
        "id": "1DFLZHF16TVP",
        "outputId": "0589b82d-6c0c-4e8a-cb7e-b3292be0bdb2"
      },
      "execution_count": 19,
      "outputs": [
        {
          "output_type": "stream",
          "name": "stdout",
          "text": [
            "Model: \"sequential_2\"\n",
            "_________________________________________________________________\n",
            " Layer (type)                Output Shape              Param #   \n",
            "=================================================================\n",
            " embedding_2 (Embedding)     (None, 100, 16)           4800      \n",
            "                                                                 \n",
            " simple_rnn_1 (SimpleRNN)    (None, 8)                 200       \n",
            "                                                                 \n",
            " dense_1 (Dense)             (None, 1)                 9         \n",
            "                                                                 \n",
            "=================================================================\n",
            "Total params: 5009 (19.57 KB)\n",
            "Trainable params: 5009 (19.57 KB)\n",
            "Non-trainable params: 0 (0.00 Byte)\n",
            "_________________________________________________________________\n"
          ]
        }
      ]
    },
    {
      "cell_type": "code",
      "source": [
        "#모델 설정\n",
        "rmsprop = keras.optimizers.RMSprop(learning_rate = 1e-4) #optimizer생성(learning rate조정을 위함)\n",
        "model.compile(optimizer = rmsprop, loss = 'binary_crossentropy', metrics = ['accuracy'])\n",
        "\n",
        "#모델 훈련\n",
        "\n",
        "checkpoint_cb = keras.callbacks.ModelCheckpoint('best-embedding-model.h5', save_best_only = True)\n",
        "early_stopping_cb = keras.callbacks.EarlyStopping(patience=3, restore_best_weights=True)\n",
        "\n",
        "\n",
        "history = model.fit(train_seq, train_target, epochs = 100, batch_size = 64,\n",
        "                    validation_data = (val_seq, val_target),\n",
        "                    callbacks = [checkpoint_cb, early_stopping_cb])\n"
      ],
      "metadata": {
        "colab": {
          "base_uri": "https://localhost:8080/"
        },
        "id": "-mKxNpLi7V6a",
        "outputId": "9140c5b1-144b-4538-8d2d-4bfc366f6770"
      },
      "execution_count": 20,
      "outputs": [
        {
          "output_type": "stream",
          "name": "stdout",
          "text": [
            "Epoch 1/100\n",
            "313/313 [==============================] - 31s 92ms/step - loss: 0.7004 - accuracy: 0.4940 - val_loss: 0.6996 - val_accuracy: 0.4964\n",
            "Epoch 2/100\n",
            "  2/313 [..............................] - ETA: 22s - loss: 0.7083 - accuracy: 0.4609"
          ]
        },
        {
          "output_type": "stream",
          "name": "stderr",
          "text": [
            "/usr/local/lib/python3.10/dist-packages/keras/src/engine/training.py:3103: UserWarning: You are saving your model as an HDF5 file via `model.save()`. This file format is considered legacy. We recommend using instead the native Keras format, e.g. `model.save('my_model.keras')`.\n",
            "  saving_api.save_model(\n"
          ]
        },
        {
          "output_type": "stream",
          "name": "stdout",
          "text": [
            "313/313 [==============================] - 26s 84ms/step - loss: 0.6942 - accuracy: 0.5132 - val_loss: 0.6959 - val_accuracy: 0.5060\n",
            "Epoch 3/100\n",
            "313/313 [==============================] - 27s 87ms/step - loss: 0.6902 - accuracy: 0.5299 - val_loss: 0.6936 - val_accuracy: 0.5188\n",
            "Epoch 4/100\n",
            "313/313 [==============================] - 26s 84ms/step - loss: 0.6867 - accuracy: 0.5472 - val_loss: 0.6921 - val_accuracy: 0.5250\n",
            "Epoch 5/100\n",
            "313/313 [==============================] - 27s 87ms/step - loss: 0.6836 - accuracy: 0.5563 - val_loss: 0.6910 - val_accuracy: 0.5322\n",
            "Epoch 6/100\n",
            "313/313 [==============================] - 26s 85ms/step - loss: 0.6806 - accuracy: 0.5683 - val_loss: 0.6903 - val_accuracy: 0.5296\n",
            "Epoch 7/100\n",
            "313/313 [==============================] - 26s 85ms/step - loss: 0.6777 - accuracy: 0.5767 - val_loss: 0.6898 - val_accuracy: 0.5320\n",
            "Epoch 8/100\n",
            "313/313 [==============================] - 26s 84ms/step - loss: 0.6747 - accuracy: 0.5836 - val_loss: 0.6893 - val_accuracy: 0.5398\n",
            "Epoch 9/100\n",
            "313/313 [==============================] - 28s 91ms/step - loss: 0.6714 - accuracy: 0.5914 - val_loss: 0.6885 - val_accuracy: 0.5438\n",
            "Epoch 10/100\n",
            "313/313 [==============================] - 27s 87ms/step - loss: 0.6677 - accuracy: 0.5990 - val_loss: 0.6868 - val_accuracy: 0.5518\n",
            "Epoch 11/100\n",
            "313/313 [==============================] - 28s 90ms/step - loss: 0.6637 - accuracy: 0.6081 - val_loss: 0.6850 - val_accuracy: 0.5560\n",
            "Epoch 12/100\n",
            "313/313 [==============================] - 28s 90ms/step - loss: 0.6594 - accuracy: 0.6162 - val_loss: 0.6821 - val_accuracy: 0.5698\n",
            "Epoch 13/100\n",
            "313/313 [==============================] - 28s 89ms/step - loss: 0.6551 - accuracy: 0.6230 - val_loss: 0.6810 - val_accuracy: 0.5666\n",
            "Epoch 14/100\n",
            "313/313 [==============================] - 27s 87ms/step - loss: 0.6505 - accuracy: 0.6309 - val_loss: 0.6791 - val_accuracy: 0.5698\n",
            "Epoch 15/100\n",
            "313/313 [==============================] - 26s 84ms/step - loss: 0.6462 - accuracy: 0.6368 - val_loss: 0.6746 - val_accuracy: 0.5796\n",
            "Epoch 16/100\n",
            "313/313 [==============================] - 27s 87ms/step - loss: 0.6418 - accuracy: 0.6410 - val_loss: 0.6750 - val_accuracy: 0.5766\n",
            "Epoch 17/100\n",
            "313/313 [==============================] - 26s 84ms/step - loss: 0.6375 - accuracy: 0.6461 - val_loss: 0.6711 - val_accuracy: 0.5840\n",
            "Epoch 18/100\n",
            "313/313 [==============================] - 26s 84ms/step - loss: 0.6330 - accuracy: 0.6512 - val_loss: 0.6710 - val_accuracy: 0.5828\n",
            "Epoch 19/100\n",
            "313/313 [==============================] - 26s 84ms/step - loss: 0.6286 - accuracy: 0.6568 - val_loss: 0.6678 - val_accuracy: 0.5882\n",
            "Epoch 20/100\n",
            "313/313 [==============================] - 26s 83ms/step - loss: 0.6247 - accuracy: 0.6586 - val_loss: 0.6654 - val_accuracy: 0.5988\n",
            "Epoch 21/100\n",
            "313/313 [==============================] - 27s 85ms/step - loss: 0.6208 - accuracy: 0.6641 - val_loss: 0.6621 - val_accuracy: 0.6032\n",
            "Epoch 22/100\n",
            "313/313 [==============================] - 26s 84ms/step - loss: 0.6170 - accuracy: 0.6666 - val_loss: 0.6613 - val_accuracy: 0.6044\n",
            "Epoch 23/100\n",
            "313/313 [==============================] - 26s 84ms/step - loss: 0.6132 - accuracy: 0.6721 - val_loss: 0.6608 - val_accuracy: 0.6056\n",
            "Epoch 24/100\n",
            "313/313 [==============================] - 27s 86ms/step - loss: 0.6099 - accuracy: 0.6728 - val_loss: 0.6590 - val_accuracy: 0.6096\n",
            "Epoch 25/100\n",
            "313/313 [==============================] - 27s 85ms/step - loss: 0.6067 - accuracy: 0.6777 - val_loss: 0.6619 - val_accuracy: 0.6036\n",
            "Epoch 26/100\n",
            "313/313 [==============================] - 28s 89ms/step - loss: 0.6036 - accuracy: 0.6808 - val_loss: 0.6601 - val_accuracy: 0.6078\n",
            "Epoch 27/100\n",
            "313/313 [==============================] - 27s 85ms/step - loss: 0.6004 - accuracy: 0.6820 - val_loss: 0.6563 - val_accuracy: 0.6142\n",
            "Epoch 28/100\n",
            "313/313 [==============================] - 26s 84ms/step - loss: 0.5975 - accuracy: 0.6851 - val_loss: 0.6555 - val_accuracy: 0.6166\n",
            "Epoch 29/100\n",
            "313/313 [==============================] - 26s 84ms/step - loss: 0.5947 - accuracy: 0.6870 - val_loss: 0.6552 - val_accuracy: 0.6186\n",
            "Epoch 30/100\n",
            "313/313 [==============================] - 27s 87ms/step - loss: 0.5918 - accuracy: 0.6891 - val_loss: 0.6504 - val_accuracy: 0.6278\n",
            "Epoch 31/100\n",
            "313/313 [==============================] - 27s 86ms/step - loss: 0.5890 - accuracy: 0.6929 - val_loss: 0.6509 - val_accuracy: 0.6252\n",
            "Epoch 32/100\n",
            "313/313 [==============================] - 27s 85ms/step - loss: 0.5862 - accuracy: 0.6965 - val_loss: 0.6498 - val_accuracy: 0.6274\n",
            "Epoch 33/100\n",
            "313/313 [==============================] - 27s 85ms/step - loss: 0.5836 - accuracy: 0.6973 - val_loss: 0.6457 - val_accuracy: 0.6328\n",
            "Epoch 34/100\n",
            "313/313 [==============================] - 27s 87ms/step - loss: 0.5809 - accuracy: 0.7022 - val_loss: 0.6447 - val_accuracy: 0.6330\n",
            "Epoch 35/100\n",
            "313/313 [==============================] - 28s 88ms/step - loss: 0.5783 - accuracy: 0.7043 - val_loss: 0.6460 - val_accuracy: 0.6300\n",
            "Epoch 36/100\n",
            "313/313 [==============================] - 27s 85ms/step - loss: 0.5756 - accuracy: 0.7045 - val_loss: 0.6437 - val_accuracy: 0.6344\n",
            "Epoch 37/100\n",
            "313/313 [==============================] - 27s 86ms/step - loss: 0.5726 - accuracy: 0.7089 - val_loss: 0.6418 - val_accuracy: 0.6378\n",
            "Epoch 38/100\n",
            "313/313 [==============================] - 28s 90ms/step - loss: 0.5704 - accuracy: 0.7102 - val_loss: 0.6435 - val_accuracy: 0.6370\n",
            "Epoch 39/100\n",
            "313/313 [==============================] - 32s 102ms/step - loss: 0.5678 - accuracy: 0.7137 - val_loss: 0.6408 - val_accuracy: 0.6408\n",
            "Epoch 40/100\n",
            "313/313 [==============================] - 28s 90ms/step - loss: 0.5656 - accuracy: 0.7154 - val_loss: 0.6433 - val_accuracy: 0.6432\n",
            "Epoch 41/100\n",
            "313/313 [==============================] - 30s 95ms/step - loss: 0.5633 - accuracy: 0.7150 - val_loss: 0.6437 - val_accuracy: 0.6422\n",
            "Epoch 42/100\n",
            "313/313 [==============================] - 37s 117ms/step - loss: 0.5611 - accuracy: 0.7194 - val_loss: 0.6398 - val_accuracy: 0.6444\n",
            "Epoch 43/100\n",
            "313/313 [==============================] - 30s 94ms/step - loss: 0.5587 - accuracy: 0.7211 - val_loss: 0.6383 - val_accuracy: 0.6446\n",
            "Epoch 44/100\n",
            "313/313 [==============================] - 27s 85ms/step - loss: 0.5566 - accuracy: 0.7221 - val_loss: 0.6387 - val_accuracy: 0.6484\n",
            "Epoch 45/100\n",
            "313/313 [==============================] - 26s 83ms/step - loss: 0.5546 - accuracy: 0.7245 - val_loss: 0.6397 - val_accuracy: 0.6498\n",
            "Epoch 46/100\n",
            "313/313 [==============================] - 27s 85ms/step - loss: 0.5525 - accuracy: 0.7266 - val_loss: 0.6398 - val_accuracy: 0.6488\n"
          ]
        }
      ]
    },
    {
      "cell_type": "code",
      "source": [
        "#그래프 그리기\n",
        "import matplotlib.pyplot as plt\n",
        "\n",
        "plt.plot(history.history['loss'])\n",
        "plt.plot(history.history['val_loss'])\n",
        "plt.xlabel('epoch')\n",
        "plt.ylabel('loss')\n",
        "plt.legend(['train', 'val'])\n",
        "plt.show()"
      ],
      "metadata": {
        "colab": {
          "base_uri": "https://localhost:8080/",
          "height": 449
        },
        "id": "l5eeU-ODDeQk",
        "outputId": "06801a8b-4184-43b5-9d5f-a74e79116f35"
      },
      "execution_count": 21,
      "outputs": [
        {
          "output_type": "display_data",
          "data": {
            "text/plain": [
              "<Figure size 640x480 with 1 Axes>"
            ],
            "image/png": "[encoded data removed]"
          },
          "metadata": {}
        }
      ]
    }
  ]
}