{
  "nbformat": 4,
  "nbformat_minor": 0,
  "metadata": {
    "colab": {
      "provenance": [],
      "mount_file_id": "1MWyOREKBjk_vtgUqI_yfw02mHJpL9heh",
      "authorship_tag": "ABX9TyN8sCZ6C03f0YX1G6uhBAaj",
      "include_colab_link": true
    },
    "kernelspec": {
      "name": "python3",
      "display_name": "Python 3"
    },
    "language_info": {
      "name": "python"
    }
  },
  "cells": [
    {
      "cell_type": "markdown",
      "metadata": {
        "id": "view-in-github",
        "colab_type": "text"
      },
      "source": [
        "<a href=\"https://colab.research.google.com/github/ChoeTaeBin/Machine-Learnig/blob/main/wine.ipynb\" target=\"_parent\"><img src=\"https://colab.research.google.com/assets/colab-badge.svg\" alt=\"Open In Colab\"/></a>"
      ]
    },
    {
      "cell_type": "code",
      "execution_count": 69,
      "metadata": {
        "id": "SYScs6lFl8eb"
      },
      "outputs": [],
      "source": [
        "import pandas as pd"
      ]
    },
    {
      "cell_type": "code",
      "source": [
        "train_df = pd.read_csv('/content/Training.csv') #train data\n",
        "val_df = pd.read_csv('/content/Validation.csv') #test data"
      ],
      "metadata": {
        "id": "e7OFB4O-mP3V"
      },
      "execution_count": 70,
      "outputs": []
    },
    {
      "cell_type": "code",
      "source": [
        "train_df['TARGET WINE CLASS'].value_counts()"
      ],
      "metadata": {
        "colab": {
          "base_uri": "https://localhost:8080/"
        },
        "id": "wm85zic46q7f",
        "outputId": "60a8f690-238f-4e40-c700-fc4b880da1d3"
      },
      "execution_count": 71,
      "outputs": [
        {
          "output_type": "execute_result",
          "data": {
            "text/plain": [
              "2    40\n",
              "1    32\n",
              "3    21\n",
              "Name: TARGET WINE CLASS, dtype: int64"
            ]
          },
          "metadata": {},
          "execution_count": 71
        }
      ]
    },
    {
      "cell_type": "code",
      "source": [
        "train_df.isnull().sum() #NaN값이 있는지 확인"
      ],
      "metadata": {
        "colab": {
          "base_uri": "https://localhost:8080/"
        },
        "id": "4Y5VZbBs2TOn",
        "outputId": "7f2f96f7-49e8-4f0d-c68b-7c9530088e87"
      },
      "execution_count": 72,
      "outputs": [
        {
          "output_type": "execute_result",
          "data": {
            "text/plain": [
              "TARGET WINE CLASS               0\n",
              "Alcohol                         1\n",
              "Malic acid                      0\n",
              "Ash                             0\n",
              "Alcalinity of ash               0\n",
              "Magnesium                       0\n",
              "Total phenols                   0\n",
              "Flavanoids                      0\n",
              "Nonflavanoid phenols            0\n",
              "Proanthocyanins                 0\n",
              "Color intensity                 0\n",
              "Hue                             0\n",
              "OD280/OD315 of diluted wines    0\n",
              "dtype: int64"
            ]
          },
          "metadata": {},
          "execution_count": 72
        }
      ]
    },
    {
      "cell_type": "code",
      "source": [
        "train_df.dropna(inplace = True) #하나 밖에 없으니 그냥 없앰"
      ],
      "metadata": {
        "id": "yod6t1Sopmf1"
      },
      "execution_count": 73,
      "outputs": []
    },
    {
      "cell_type": "markdown",
      "source": [
        "## target data 분리"
      ],
      "metadata": {
        "id": "z1YA1Sjm22Kq"
      }
    },
    {
      "cell_type": "code",
      "source": [
        "X_train = train_df.drop(columns = ['TARGET WINE CLASS'])\n",
        "y_train = train_df['TARGET WINE CLASS']\n",
        "\n",
        "X_val = val_df.drop(columns = ['TARGET WINE CLASS'])\n",
        "y_val = val_df['TARGET WINE CLASS']"
      ],
      "metadata": {
        "id": "g2u3ftgnpz2R"
      },
      "execution_count": 74,
      "outputs": []
    },
    {
      "cell_type": "markdown",
      "source": [
        "##logistic regression 모델 훈련 및 평가"
      ],
      "metadata": {
        "id": "5YxQ0S2Z7UTy"
      }
    },
    {
      "cell_type": "code",
      "source": [
        "from sklearn.linear_model import LogisticRegression\n",
        "from sklearn.metrics import accuracy_score\n",
        "\n",
        "# 로지스틱 회귀 모델 초기화 및 훈련\n",
        "model = LogisticRegression()\n",
        "model.fit(X_train, y_train)\n",
        "\n",
        "# 검증 데이터에 대한 예측\n",
        "y_pred = model.predict(X_val)\n",
        "\n",
        "# 검증세트 정확도 평가\n",
        "accuracy = accuracy_score(y_val, y_pred)\n",
        "print(\"검증 세트 정확도:\", accuracy)"
      ],
      "metadata": {
        "colab": {
          "base_uri": "https://localhost:8080/"
        },
        "id": "VT85ljItolut",
        "outputId": "521e6cc1-7a60-4373-944b-fa3e59796e6c"
      },
      "execution_count": 75,
      "outputs": [
        {
          "output_type": "stream",
          "name": "stdout",
          "text": [
            "검증 세트 정확도: 0.8421052631578947\n"
          ]
        },
        {
          "output_type": "stream",
          "name": "stderr",
          "text": [
            "/usr/local/lib/python3.10/dist-packages/sklearn/linear_model/_logistic.py:458: ConvergenceWarning: lbfgs failed to converge (status=1):\n",
            "STOP: TOTAL NO. of ITERATIONS REACHED LIMIT.\n",
            "\n",
            "Increase the number of iterations (max_iter) or scale the data as shown in:\n",
            "    https://scikit-learn.org/stable/modules/preprocessing.html\n",
            "Please also refer to the documentation for alternative solver options:\n",
            "    https://scikit-learn.org/stable/modules/linear_model.html#logistic-regression\n",
            "  n_iter_i = _check_optimize_result(\n"
          ]
        }
      ]
    },
    {
      "cell_type": "code",
      "source": [
        "from sklearn.metrics import confusion_matrix, precision_score, recall_score\n",
        "\n",
        "cm = confusion_matrix(y_val, y_pred)\n",
        "\n",
        "# Confusion Matrix 출력\n",
        "print(\"Confusion Matrix:\")\n",
        "print(cm)\n",
        "\n",
        "# Precision 계산\n",
        "precision = precision_score(y_val, y_pred, average='macro')\n",
        "\n",
        "# Recall 계산\n",
        "recall = recall_score(y_val, y_pred, average='macro')\n",
        "\n",
        "# Precision과 Recall 출력\n",
        "print(\"Precision:\", precision)\n",
        "print(\"Recall:\", recall)"
      ],
      "metadata": {
        "colab": {
          "base_uri": "https://localhost:8080/"
        },
        "id": "2c1CNxBG4zKj",
        "outputId": "1bba33d9-cd49-4a62-cc8a-9e9540bb881c"
      },
      "execution_count": 76,
      "outputs": [
        {
          "output_type": "stream",
          "name": "stdout",
          "text": [
            "Confusion Matrix:\n",
            "[[ 9  4  0]\n",
            " [ 1 11  1]\n",
            " [ 0  0 12]]\n",
            "Precision: 0.8521367521367521\n",
            "Recall: 0.8461538461538461\n"
          ]
        }
      ]
    },
    {
      "cell_type": "code",
      "source": [
        "test_df = pd.read_csv('/content/TEST.csv') #test data"
      ],
      "metadata": {
        "id": "d4Ebm2RjqmtF"
      },
      "execution_count": 77,
      "outputs": []
    },
    {
      "cell_type": "code",
      "source": [
        "# 테스트 데이터에 대한 예측\n",
        "y_pred = model.predict(test_df.drop(columns = ['TARGET WINE CLASS']))\n",
        "\n",
        "# 테스트 세트 정확도 평가\n",
        "accuracy = accuracy_score(test_df['TARGET WINE CLASS'], y_pred)\n",
        "print(\"테스트 세트 정확도:\", accuracy)"
      ],
      "metadata": {
        "colab": {
          "base_uri": "https://localhost:8080/"
        },
        "id": "Aiqypli63wtM",
        "outputId": "3ccd3d07-6e76-40ca-cc62-09add59214a7"
      },
      "execution_count": 78,
      "outputs": [
        {
          "output_type": "stream",
          "name": "stdout",
          "text": [
            "테스트 세트 정확도: 0.9361702127659575\n"
          ]
        }
      ]
    },
    {
      "cell_type": "markdown",
      "source": [
        "##naive bayes모델 훈련및 평가"
      ],
      "metadata": {
        "id": "1J5a_EDd75mJ"
      }
    },
    {
      "cell_type": "code",
      "source": [
        "from sklearn.naive_bayes import MultinomialNB\n",
        "\n",
        "# 네이브 베이즈 모델을 초기화하고 훈련합니다.\n",
        "nb_model = MultinomialNB()\n",
        "nb_model.fit(X_train, y_train)\n",
        "\n",
        "# 테스트 데이터에 대해 예측을 수행합니다.\n",
        "y_pred = nb_model.predict(X_val)\n",
        "\n",
        "# 정확도를 평가합니다.\n",
        "accuracy = accuracy_score(y_val, y_pred)\n",
        "print(\"Accuracy:\", accuracy)"
      ],
      "metadata": {
        "colab": {
          "base_uri": "https://localhost:8080/"
        },
        "id": "dTW52_uR73bz",
        "outputId": "8ba6a8e4-cf5a-44dc-d7d4-72c2024a2e5a"
      },
      "execution_count": 79,
      "outputs": [
        {
          "output_type": "stream",
          "name": "stdout",
          "text": [
            "Accuracy: 0.868421052631579\n"
          ]
        }
      ]
    },
    {
      "cell_type": "code",
      "source": [
        "from sklearn.metrics import confusion_matrix, precision_score, recall_score\n",
        "\n",
        "cm = confusion_matrix(y_val, y_pred)\n",
        "\n",
        "# Confusion Matrix 출력\n",
        "print(\"Confusion Matrix:\")\n",
        "print(cm)\n",
        "\n",
        "# Precision 계산\n",
        "precision = precision_score(y_val, y_pred, average='macro')\n",
        "\n",
        "# Recall 계산\n",
        "recall = recall_score(y_val, y_pred, average='macro')\n",
        "\n",
        "# Precision과 Recall 출력\n",
        "print(\"Precision:\", precision)\n",
        "print(\"Recall:\", recall)"
      ],
      "metadata": {
        "colab": {
          "base_uri": "https://localhost:8080/"
        },
        "id": "ISircdgV9NSe",
        "outputId": "60e9b036-7bde-41c3-8283-52c77333dd5b"
      },
      "execution_count": 80,
      "outputs": [
        {
          "output_type": "stream",
          "name": "stdout",
          "text": [
            "Confusion Matrix:\n",
            "[[ 9  4  0]\n",
            " [ 0 12  1]\n",
            " [ 0  0 12]]\n",
            "Precision: 0.8910256410256411\n",
            "Recall: 0.8717948717948718\n"
          ]
        }
      ]
    },
    {
      "cell_type": "code",
      "source": [
        "#테스트 데이터에 대한 예측\n",
        "y_pred = nb_model.predict(test_df.drop(columns = ['TARGET WINE CLASS']))\n",
        "\n",
        "# 테스트 세트 정확도 평가\n",
        "accuracy = accuracy_score(test_df['TARGET WINE CLASS'], y_pred)\n",
        "print(\"테스트 세트 정확도:\", accuracy)"
      ],
      "metadata": {
        "colab": {
          "base_uri": "https://localhost:8080/"
        },
        "id": "YmqhdAXb8Ntz",
        "outputId": "58b8e38e-0083-4579-e4e2-bc4d211af235"
      },
      "execution_count": 81,
      "outputs": [
        {
          "output_type": "stream",
          "name": "stdout",
          "text": [
            "테스트 세트 정확도: 0.9148936170212766\n"
          ]
        }
      ]
    },
    {
      "cell_type": "markdown",
      "source": [
        "##최종적으로 logistic regression을 이용한 모델이 더 높은 accuracy를 보였다."
      ],
      "metadata": {
        "id": "pj1sax1z858v"
      }
    }
  ]
}