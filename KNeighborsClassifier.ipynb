{
  "nbformat": 4,
  "nbformat_minor": 0,
  "metadata": {
    "colab": {
      "provenance": [],
      "authorship_tag": "ABX9TyP7I3H4PcKVze4A9iHeFzQc",
      "include_colab_link": true
    },
    "kernelspec": {
      "name": "python3",
      "display_name": "Python 3"
    },
    "language_info": {
      "name": "python"
    }
  },
  "cells": [
    {
      "cell_type": "markdown",
      "metadata": {
        "id": "view-in-github",
        "colab_type": "text"
      },
      "source": [
        "<a href=\"https://colab.research.google.com/github/ChoeTaeBin/Machine-Learnig/blob/main/KNeighborsClassifier.ipynb\" target=\"_parent\"><img src=\"https://colab.research.google.com/assets/colab-badge.svg\" alt=\"Open In Colab\"/></a>"
      ]
    },
    {
      "cell_type": "code",
      "execution_count": 5,
      "metadata": {
        "colab": {
          "base_uri": "https://localhost:8080/"
        },
        "id": "OyN-rqBWPx-I",
        "outputId": "e1cc1395-3924-423d-c2da-f68ffc31b71d"
      },
      "outputs": [
        {
          "output_type": "stream",
          "name": "stdout",
          "text": [
            "[[ 25.4 242. ]\n",
            " [ 26.3 290. ]\n",
            " [ 26.5 340. ]\n",
            " [ 29.  363. ]\n",
            " [ 29.  430. ]\n",
            " [ 29.7 450. ]\n",
            " [ 29.7 500. ]\n",
            " [ 30.  390. ]\n",
            " [ 30.  450. ]\n",
            " [ 30.7 500. ]]\n",
            "[1. 1. 1. 1. 1. 1. 1. 1. 1. 1.]\n"
          ]
        }
      ],
      "source": [
        "import numpy as np\n",
        "import matplotlib.pyplot as plt\n",
        "\n",
        "#생선의 길이, 무게를 리스트로 준비\n",
        "fish_length = [25.4, 26.3, 26.5, 29.0, 29.0, 29.7, 29.7, 30.0, 30.0, 30.7, 31.0, 31.0,\n",
        "                31.5, 32.0, 32.0, 32.0, 33.0, 33.0, 33.5, 33.5, 34.0, 34.0, 34.5, 35.0,\n",
        "                35.0, 35.0, 35.0, 36.0, 36.0, 37.0, 38.5, 38.5, 39.5, 41.0, 41.0, 9.8,\n",
        "                10.5, 10.6, 11.0, 11.2, 11.3, 11.8, 11.8, 12.0, 12.2, 12.4, 13.0, 14.3, 15.0]\n",
        "fish_weight = [242.0, 290.0, 340.0, 363.0, 430.0, 450.0, 500.0, 390.0, 450.0, 500.0, 475.0, 500.0,\n",
        "                500.0, 340.0, 600.0, 600.0, 700.0, 700.0, 610.0, 650.0, 575.0, 685.0, 620.0, 680.0,\n",
        "                700.0, 725.0, 720.0, 714.0, 850.0, 1000.0, 920.0, 955.0, 925.0, 975.0, 950.0, 6.7,\n",
        "                7.5, 7.0, 9.7, 9.8, 8.7, 10.0, 9.9, 9.8, 12.2, 13.4, 12.2, 19.7, 19.9]\n",
        "\n",
        "fish_data = np.column_stack((fish_length, fish_weight)) #넘파이 배열로 만듬 1열: 길이, 2열: 무게\n",
        "fish_target = np.concatenate((np.ones(35),np.zeros(14))) #앞의 35개가 양성 클래스\n",
        "\n",
        "print(fish_data[:10])\n",
        "print(fish_target[:10])"
      ]
    },
    {
      "cell_type": "code",
      "source": [
        "#훈련 세트, 테스트 세트 나누기\n",
        "from sklearn.model_selection import train_test_split\n",
        "#stratify = fish_target으로 target을 전달해주면 클래스 비율에 맞게 분할함\n",
        "train_input, test_input, train_target, test_target = train_test_split(fish_data, fish_target, stratify = fish_target)\n",
        "print(test_target)#비율이 맞는지 확인"
      ],
      "metadata": {
        "colab": {
          "base_uri": "https://localhost:8080/"
        },
        "id": "4jfo1pi9iBO3",
        "outputId": "8363bb6c-20d7-48db-d7c2-bd892fd6f2a1"
      },
      "execution_count": 6,
      "outputs": [
        {
          "output_type": "stream",
          "name": "stdout",
          "text": [
            "[1. 0. 0. 1. 1. 1. 1. 0. 1. 0. 1. 1. 1.]\n"
          ]
        }
      ]
    },
    {
      "cell_type": "code",
      "source": [
        "#데이터 전처리(표준점수로 스테일 맞추기)\n",
        "\n",
        "#1. 훈련세트의 평균, 표준편차를 구함\n",
        "mean = np.mean(train_input,axis=0)\n",
        "std = np.std(train_input, axis=0)\n",
        "\n",
        "#2. 스케일 맞추기\n",
        "train_scaled = (train_input - mean) / std #broadcasting이용\n",
        "test_scaled  = (test_input - mean) / std #훈련 세트 데이터로 정규화!\n",
        "new = ([25,150] - mean) / std #수상한 생선(훈련 세트 데이터로 정규화!)"
      ],
      "metadata": {
        "id": "Z_U-An_4j0rf"
      },
      "execution_count": 9,
      "outputs": []
    },
    {
      "cell_type": "code",
      "source": [
        "#모델 훈련 하기\n",
        "from sklearn.neighbors import KNeighborsClassifier\n",
        "kn = KNeighborsClassifier()\n",
        "kn.fit(train_scaled,train_target) #훈련\n",
        "kn.score(test_scaled, test_target) #평가"
      ],
      "metadata": {
        "colab": {
          "base_uri": "https://localhost:8080/"
        },
        "id": "ASA3C8eAmL1x",
        "outputId": "e283c976-aa28-4ad0-ce81-d0b98af54e9c"
      },
      "execution_count": 10,
      "outputs": [
        {
          "output_type": "execute_result",
          "data": {
            "text/plain": [
              "1.0"
            ]
          },
          "metadata": {},
          "execution_count": 10
        }
      ]
    },
    {
      "cell_type": "code",
      "source": [
        "#수상한 생선 클래스 분류\n",
        "distances, indexes = kn.kneighbors([new]) #이웃 정보\n",
        "print('수상한 생선은: ', kn.predict([new]))\n",
        "print('근거: ', train_target[indexes])"
      ],
      "metadata": {
        "colab": {
          "base_uri": "https://localhost:8080/"
        },
        "id": "we6UuIwOnONV",
        "outputId": "93e38675-67ce-4883-8e25-63851b3c9bc0"
      },
      "execution_count": 16,
      "outputs": [
        {
          "output_type": "stream",
          "name": "stdout",
          "text": [
            "수상한 생선은:  [1.]\n",
            "근거:  [[1. 1. 1. 1. 0.]]\n"
          ]
        }
      ]
    },
    {
      "cell_type": "code",
      "source": [
        "#산점도 확인\n",
        "\n",
        "plt.scatter(train_scaled[:,0], train_scaled[:,1])\n",
        "plt.scatter(new[0], new[1], marker = '^')\n",
        "plt.scatter(train_scaled[indexes,0], train_scaled[indexes, 1], marker = 'D') #판단의 근거가 된 이웃들\n",
        "plt.xlabel('length')\n",
        "plt.ylabel('weight')\n",
        "plt.show()"
      ],
      "metadata": {
        "colab": {
          "base_uri": "https://localhost:8080/",
          "height": 449
        },
        "id": "Qli1R3mClH2L",
        "outputId": "b99f9e48-3907-4853-d569-fe0b108c2cda"
      },
      "execution_count": 15,
      "outputs": [
        {
          "output_type": "display_data",
          "data": {
            "text/plain": [
              "<Figure size 640x480 with 1 Axes>"
            ],
            "image/png": "[encoded data removed]"
          },
          "metadata": {}
        }
      ]
    },
    {
      "cell_type": "code",
      "source": [],
      "metadata": {
        "id": "zanNjVVmmAgm"
      },
      "execution_count": null,
      "outputs": []
    }
  ]
}