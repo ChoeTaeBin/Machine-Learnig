{
  "nbformat": 4,
  "nbformat_minor": 0,
  "metadata": {
    "colab": {
      "provenance": [],
      "authorship_tag": "ABX9TyPUqdhUSr9luA+q4pemKdEf",
      "include_colab_link": true
    },
    "kernelspec": {
      "name": "python3",
      "display_name": "Python 3"
    },
    "language_info": {
      "name": "python"
    }
  },
  "cells": [
    {
      "cell_type": "markdown",
      "metadata": {
        "id": "view-in-github",
        "colab_type": "text"
      },
      "source": [
        "<a href=\"https://colab.research.google.com/github/ChoeTaeBin/Machine-Learnig/blob/main/treeEnsemble.ipynb\" target=\"_parent\"><img src=\"https://colab.research.google.com/assets/colab-badge.svg\" alt=\"Open In Colab\"/></a>"
      ]
    },
    {
      "cell_type": "markdown",
      "source": [
        "앙상블학습을 이용하여 성능을 높일 수 있다."
      ],
      "metadata": {
        "id": "0UB6pRzH7aJz"
      }
    },
    {
      "cell_type": "code",
      "source": [
        "#데이터 준비\n",
        "import numpy as np\n",
        "import pandas as pd\n",
        "from sklearn.model_selection import train_test_split\n",
        "wine = pd.read_csv('https://bit.ly/wine_csv_data')\n",
        "data = wine[['alcohol', 'sugar', 'pH']].to_numpy()\n",
        "target = wine['class'].to_numpy()\n",
        "train_input, test_input, train_target, test_taget = train_test_split(data, target, test_size = 0.2, random_state = 42)"
      ],
      "metadata": {
        "id": "OIF5LSXl7vjC"
      },
      "execution_count": 2,
      "outputs": []
    },
    {
      "cell_type": "markdown",
      "source": [
        "Random Forest"
      ],
      "metadata": {
        "id": "PkY_ngAY7mYU"
      }
    },
    {
      "cell_type": "code",
      "execution_count": 7,
      "metadata": {
        "colab": {
          "base_uri": "https://localhost:8080/"
        },
        "id": "L_no0cVv7S7T",
        "outputId": "fb43fa50-f064-4e55-f12b-065ba811837d"
      },
      "outputs": [
        {
          "output_type": "stream",
          "name": "stdout",
          "text": [
            "<교차 검증>\n",
            "\n",
            "train data score:  0.9973541965122431\n",
            "test data score:  0.8905151032797809\n",
            "\n",
            "<OOB샘플 이용>\n",
            "oob score:  0.8934000384837406\n"
          ]
        }
      ],
      "source": [
        "from sklearn.model_selection import cross_validate\n",
        "from sklearn.ensemble import RandomForestClassifier\n",
        "\n",
        "rf = RandomForestClassifier( n_jobs=-1, random_state = 42)\n",
        "\n",
        "print('<교차 검증>\\n')\n",
        "scores = cross_validate(rf, train_input, train_target, return_train_score = True, n_jobs = -1) #교차검증을 함\n",
        "print('train data score: ', np.mean(scores['train_score']))\n",
        "print('test data score: ', np.mean(scores['test_score']))\n",
        "\n",
        "print('\\n<OOB샘플 이용>')\n",
        "rf = RandomForestClassifier(oob_score = True, n_jobs=-1, random_state = 42) #OOB샘플을 이용해서 교차검증 처럼 이용할 수 도 있음\n",
        "rf.fit(train_input, train_target)\n",
        "print('oob score: ', rf.oob_score_)\n"
      ]
    },
    {
      "cell_type": "markdown",
      "source": [
        "특성 중요도의 편향이 많이 완화 된다."
      ],
      "metadata": {
        "id": "L1ZzgE-D9zhh"
      }
    },
    {
      "cell_type": "code",
      "source": [
        "#특성 중요도\n",
        "print(rf.feature_importances_)"
      ],
      "metadata": {
        "colab": {
          "base_uri": "https://localhost:8080/"
        },
        "id": "xh_r85m_9fU5",
        "outputId": "1644df6f-df95-4645-de2a-5f7498690623"
      },
      "execution_count": 8,
      "outputs": [
        {
          "output_type": "stream",
          "name": "stdout",
          "text": [
            "[0.23167441 0.50039841 0.26792718]\n"
          ]
        }
      ]
    },
    {
      "cell_type": "markdown",
      "source": [
        "Extra Trees"
      ],
      "metadata": {
        "id": "9C9J5wp--9zX"
      }
    },
    {
      "cell_type": "code",
      "source": [
        "from sklearn.ensemble import ExtraTreesClassifier\n",
        "\n",
        "et = ExtraTreesClassifier(n_jobs = -1, random_state = 42)\n",
        "scores = cross_validate(et, train_input, train_target, return_train_score=True, n_jobs = -1)\n",
        "\n",
        "print('train data score: ', np.mean(scores['train_score']))\n",
        "print('test data score: ', np.mean(scores['test_score']))\n",
        "\n",
        "et.fit(train_input, train_target)\n",
        "print('<특성 중요도>\\n', et.feature_importances_)"
      ],
      "metadata": {
        "colab": {
          "base_uri": "https://localhost:8080/"
        },
        "id": "8Aprckoq94QZ",
        "outputId": "dcff6312-5ae2-44d4-e223-6a762ceb38d8"
      },
      "execution_count": 9,
      "outputs": [
        {
          "output_type": "stream",
          "name": "stdout",
          "text": [
            "train data score:  0.9974503966084433\n",
            "test data score:  0.8887848893166506\n",
            "<특성 중요도>\n",
            " [0.20183568 0.52242907 0.27573525]\n"
          ]
        }
      ]
    },
    {
      "cell_type": "markdown",
      "source": [
        "Gradient Boosting\n",
        "\n",
        "손실함수값이 줄어드는 방향으로 깊이가 앝은 트리를 계속해서 추가해 나가는 알고리즘이다."
      ],
      "metadata": {
        "id": "aUJY4VHOLYeY"
      }
    },
    {
      "cell_type": "code",
      "source": [
        "from sklearn.ensemble import GradientBoostingClassifier\n",
        "\n",
        "gb = GradientBoostingClassifier(random_state = 42)\n",
        "\n",
        "scores = cross_validate(gb, train_input, train_target, return_train_score=True, n_jobs = -1)\n",
        "\n",
        "print('train data score: ', np.mean(scores['train_score']))\n",
        "print('test data score: ', np.mean(scores['test_score']))\n",
        "\n",
        "gb.fit(train_input, train_target)\n",
        "print('<특성 중요도>\\n', gb.feature_importances_)"
      ],
      "metadata": {
        "colab": {
          "base_uri": "https://localhost:8080/"
        },
        "id": "irfGV4iXLfkj",
        "outputId": "13cd52c4-0646-4a69-f71c-45798ea95b7a"
      },
      "execution_count": 10,
      "outputs": [
        {
          "output_type": "stream",
          "name": "stdout",
          "text": [
            "train data score:  0.8881086892152563\n",
            "test data score:  0.8720430147331015\n",
            "<특성 중요도>\n",
            " [0.11949946 0.74871836 0.13178218]\n"
          ]
        }
      ]
    },
    {
      "cell_type": "markdown",
      "source": [
        "Histogram-based Gradient Boosting"
      ],
      "metadata": {
        "id": "h_Gsl7uFMX9R"
      }
    },
    {
      "cell_type": "code",
      "source": [
        "#sklearn\n",
        "from sklearn.experimental import enable_hist_gradient_boosting\n",
        "from sklearn.ensemble import HistGradientBoostingClassifier\n",
        "\n",
        "hgb = HistGradientBoostingClassifier(random_state = 42)\n",
        "scores = cross_validate(hgb, train_input, train_target, return_train_score=True, n_jobs = -1)\n",
        "\n",
        "print('train data score: ', np.mean(scores['train_score']))\n",
        "print('test data score: ', np.mean(scores['test_score']))"
      ],
      "metadata": {
        "colab": {
          "base_uri": "https://localhost:8080/"
        },
        "id": "TCfemmflMfZM",
        "outputId": "924d6582-699f-48d6-fba3-60cacfeb84b0"
      },
      "execution_count": 11,
      "outputs": [
        {
          "output_type": "stream",
          "name": "stderr",
          "text": [
            "/usr/local/lib/python3.10/dist-packages/sklearn/experimental/enable_hist_gradient_boosting.py:16: UserWarning: Since version 1.0, it is not needed to import enable_hist_gradient_boosting anymore. HistGradientBoostingClassifier and HistGradientBoostingRegressor are now stable and can be normally imported from sklearn.ensemble.\n",
            "  warnings.warn(\n"
          ]
        },
        {
          "output_type": "stream",
          "name": "stdout",
          "text": [
            "train data score:  0.9321723946453317\n",
            "test data score:  0.8801241948619236\n"
          ]
        }
      ]
    },
    {
      "cell_type": "markdown",
      "source": [
        "특성 중요도를 계산하는 최신 방법:\n",
        "permutation_importance()\n",
        "idea: 한 특성값을 랜덤으로 섞고 모델을 훈련시킨 후 정상적인 샘플과 비교했을때 얼마나 점수가 떨어졌는지 보면 그 특성이 얼마나 중요한지 알 수 있다."
      ],
      "metadata": {
        "id": "wwF_WQ7wNgZw"
      }
    },
    {
      "cell_type": "code",
      "source": [
        "from sklearn.inspection import permutation_importance\n",
        "\n",
        "hgb.fit(train_input, train_target)\n",
        "result = permutation_importance(hgb, train_input, train_target, n_repeats = 10, random_state=42, n_jobs=-1)\n",
        "print(result.importances_mean)"
      ],
      "metadata": {
        "colab": {
          "base_uri": "https://localhost:8080/"
        },
        "id": "eca4E6ixNbje",
        "outputId": "427fc076-7d4d-47ad-84c3-2d59e2b00553"
      },
      "execution_count": 12,
      "outputs": [
        {
          "output_type": "stream",
          "name": "stdout",
          "text": [
            "[0.08876275 0.23438522 0.08027708]\n"
          ]
        }
      ]
    },
    {
      "cell_type": "code",
      "source": [
        "#XGBoost\n",
        "from xgboost import XGBClassifier\n",
        "xgb = XGBClassifier(tree_method='hist', random_state=42)\n",
        "\n",
        "scores = cross_validate(xgb, train_input, train_target, return_train_score=True, n_jobs = -1)\n",
        "\n",
        "print('train data score: ', np.mean(scores['train_score']))\n",
        "print('test data score: ', np.mean(scores['test_score']))"
      ],
      "metadata": {
        "colab": {
          "base_uri": "https://localhost:8080/"
        },
        "id": "rASUvKSrOiPc",
        "outputId": "b0a3ac51-7871-4549-9c46-fa85cc8ddba2"
      },
      "execution_count": 13,
      "outputs": [
        {
          "output_type": "stream",
          "name": "stdout",
          "text": [
            "train data score:  0.9558403027491312\n",
            "test data score:  0.8782000074035686\n"
          ]
        }
      ]
    },
    {
      "cell_type": "code",
      "source": [
        "from lightgbm import LGBMClassifier\n",
        "lgb = LGBMClassifier(random_state = 42)\n",
        "\n",
        "scores = cross_validate(lgb, train_input, train_target, return_train_score=True, n_jobs = -1)\n",
        "\n",
        "print('train data score: ', np.mean(scores['train_score']))\n",
        "print('test data score: ', np.mean(scores['test_score']))"
      ],
      "metadata": {
        "colab": {
          "base_uri": "https://localhost:8080/"
        },
        "id": "HNyrg1tHPSIw",
        "outputId": "97f48efc-bfe8-4945-a970-b5ef2f27ad41"
      },
      "execution_count": 15,
      "outputs": [
        {
          "output_type": "stream",
          "name": "stdout",
          "text": [
            "train data score:  0.935828414851749\n",
            "test data score:  0.8801251203079884\n"
          ]
        }
      ]
    }
  ]
}