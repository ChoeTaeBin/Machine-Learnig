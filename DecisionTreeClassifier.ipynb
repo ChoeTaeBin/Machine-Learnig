{
  "nbformat": 4,
  "nbformat_minor": 0,
  "metadata": {
    "colab": {
      "provenance": [],
      "authorship_tag": "ABX9TyPXynxmSvebEhVqA7Tlnwgq",
      "include_colab_link": true
    },
    "kernelspec": {
      "name": "python3",
      "display_name": "Python 3"
    },
    "language_info": {
      "name": "python"
    }
  },
  "cells": [
    {
      "cell_type": "markdown",
      "metadata": {
        "id": "view-in-github",
        "colab_type": "text"
      },
      "source": [
        "<a href=\"https://colab.research.google.com/github/ChoeTaeBin/Machine-Learnig/blob/main/DecisionTreeClassifier.ipynb\" target=\"_parent\"><img src=\"https://colab.research.google.com/assets/colab-badge.svg\" alt=\"Open In Colab\"/></a>"
      ]
    },
    {
      "cell_type": "markdown",
      "source": [
        "트리 알고리즘을 분류에 이용할 수 있다. 그리고 성능 평가를 위해 교차 검증 방법을 사용할 수 있다.\n",
        "하이퍼 파라메터를 바꾸어 가며 교차검증을 하면서 하이퍼 파라메터를 튜닝 할 수 도있으나, GridSearch 또는 RandomSearch를 이용하면 편하다."
      ],
      "metadata": {
        "id": "LOjVIcQfpWGn"
      }
    },
    {
      "cell_type": "code",
      "source": [
        "#데이터 준비\n",
        "import pandas as pd\n",
        "from sklearn.model_selection import train_test_split\n",
        "\n",
        "wine = pd.read_csv('https://bit.ly/wine_csv_data')\n",
        "\n",
        "data = wine[['alcohol', 'sugar', 'pH']].to_numpy()\n",
        "target = wine['class'].to_numpy()\n",
        "\n",
        "#세트 분할\n",
        "train_input, test_input, train_target, test_target = train_test_split(data, target, test_size = 0.2, random_state = 42)"
      ],
      "metadata": {
        "id": "pklrPXsGpVxF"
      },
      "execution_count": 3,
      "outputs": []
    },
    {
      "cell_type": "code",
      "source": [
        "#트리 모델 생성\n",
        "from sklearn.tree import DecisionTreeClassifier\n",
        "\n",
        "dt = DecisionTreeClassifier(random_state = 42)"
      ],
      "metadata": {
        "id": "5uhLBhLIqxK4"
      },
      "execution_count": 4,
      "outputs": []
    },
    {
      "cell_type": "code",
      "execution_count": 8,
      "metadata": {
        "colab": {
          "base_uri": "https://localhost:8080/"
        },
        "id": "uA8dTsh1pKqq",
        "outputId": "2dd78b1b-cd7c-4f0e-ff0d-4c1efbad9aad"
      },
      "outputs": [
        {
          "output_type": "stream",
          "name": "stdout",
          "text": [
            "{'fit_time': array([0.01029539, 0.00833654, 0.00828481, 0.00799322, 0.00783944,\n",
            "       0.00870013, 0.00819111, 0.00836301, 0.0080986 , 0.00797558]), 'score_time': array([0.00096536, 0.00088787, 0.00086212, 0.00083733, 0.00085282,\n",
            "       0.00091791, 0.00092936, 0.00088024, 0.00083661, 0.00086856]), 'test_score': array([0.83461538, 0.87884615, 0.85384615, 0.85384615, 0.84615385,\n",
            "       0.87307692, 0.85961538, 0.85549133, 0.85163776, 0.86705202])}\n",
            "평균점수:  0.8574181117533719\n"
          ]
        }
      ],
      "source": [
        "#일반 교차 검증\n",
        "\n",
        "from sklearn.model_selection import cross_validate, StratifiedKFold\n",
        "import numpy as np\n",
        "splitter = StratifiedKFold(n_splits=10, shuffle = True, random_state = 42) #훈련 세트를 섞기위해 분할기를 만듦\n",
        "scores = cross_validate(dt, train_input, train_target, cv = splitter)\n",
        "print(scores)\n",
        "print('평균점수: ', np.mean(scores['test_score']))\n"
      ]
    },
    {
      "cell_type": "markdown",
      "source": [
        "하이퍼 파라메터 튜닝"
      ],
      "metadata": {
        "id": "u5uDv1oJv1a3"
      }
    },
    {
      "cell_type": "code",
      "source": [
        "# 그리드 서치\n",
        "from sklearn.model_selection import GridSearchCV\n",
        "params = {\n",
        "          'min_impurity_decrease': np.arange(0.0001, 0.001, 0.0001),\n",
        "          'max_depth': range(5, 20, 1),\n",
        "          'min_samples_split': range(2,100, 10)\n",
        "          } #딕셔너리 형태로 전달\n",
        "\n",
        "gs = GridSearchCV(DecisionTreeClassifier(random_state = 42), params, n_jobs = -1) #cpu모든 코어를 다 쓰겠다는 뜻\n",
        "gs.fit(train_input, train_target)\n",
        "\n",
        "print('최적의 parameters: ', gs.best_params_)\n",
        "dt = gs.best_estimator_ #최적의 모델\n",
        "print('최적 모델의 점수: ', dt.score(test_input, test_target))"
      ],
      "metadata": {
        "colab": {
          "base_uri": "https://localhost:8080/"
        },
        "id": "NKkaqEMpsVVZ",
        "outputId": "8fd5b91c-36fd-4e3b-ba1e-5cfa3ad8f709"
      },
      "execution_count": 10,
      "outputs": [
        {
          "output_type": "stream",
          "name": "stdout",
          "text": [
            "최적의 parameter:  {'max_depth': 14, 'min_impurity_decrease': 0.0004, 'min_samples_split': 12}\n",
            "최적 모델의 점수:  0.8615384615384616\n"
          ]
        }
      ]
    },
    {
      "cell_type": "code",
      "source": [
        "#랜덤 서치\n",
        "from scipy.stats import uniform, randint\n",
        "from sklearn.model_selection import RandomizedSearchCV\n",
        "\n",
        "params = {\n",
        "    'min_impurity_decrease': uniform(0.0001, 0.001),\n",
        "    'max_depth': randint(20, 50),\n",
        "    'min_samples_split': randint(1,25)\n",
        "}\n",
        "\n",
        "gs = RandomizedSearchCV(DecisionTreeClassifier(random_state = 42), params, n_iter=100, n_jobs=-1, random_state=42)\n",
        "gs.fit(train_input, train_target)\n",
        "\n",
        "print('최적의 parameters: ', gs.best_params_)\n",
        "dt = gs.best_estimator_\n",
        "print('최적 모델의 점수: ', dt.score(test_input, test_target))\n"
      ],
      "metadata": {
        "colab": {
          "base_uri": "https://localhost:8080/"
        },
        "id": "Ig0GJ28Ov5Jw",
        "outputId": "992497bf-4f6b-40a0-ddfa-c19d818d34be"
      },
      "execution_count": 11,
      "outputs": [
        {
          "output_type": "stream",
          "name": "stdout",
          "text": [
            "최적의 parameters:  {'max_depth': 29, 'min_impurity_decrease': 0.000437615171403628, 'min_samples_split': 15}\n",
            "최적 모델의 점수:  0.8623076923076923\n"
          ]
        },
        {
          "output_type": "stream",
          "name": "stderr",
          "text": [
            "/usr/local/lib/python3.10/dist-packages/sklearn/model_selection/_validation.py:378: FitFailedWarning: \n",
            "25 fits failed out of a total of 500.\n",
            "The score on these train-test partitions for these parameters will be set to nan.\n",
            "If these failures are not expected, you can try to debug them by setting error_score='raise'.\n",
            "\n",
            "Below are more details about the failures:\n",
            "--------------------------------------------------------------------------------\n",
            "25 fits failed with the following error:\n",
            "Traceback (most recent call last):\n",
            "  File \"/usr/local/lib/python3.10/dist-packages/sklearn/model_selection/_validation.py\", line 686, in _fit_and_score\n",
            "    estimator.fit(X_train, y_train, **fit_params)\n",
            "  File \"/usr/local/lib/python3.10/dist-packages/sklearn/tree/_classes.py\", line 889, in fit\n",
            "    super().fit(\n",
            "  File \"/usr/local/lib/python3.10/dist-packages/sklearn/tree/_classes.py\", line 177, in fit\n",
            "    self._validate_params()\n",
            "  File \"/usr/local/lib/python3.10/dist-packages/sklearn/base.py\", line 600, in _validate_params\n",
            "    validate_parameter_constraints(\n",
            "  File \"/usr/local/lib/python3.10/dist-packages/sklearn/utils/_param_validation.py\", line 97, in validate_parameter_constraints\n",
            "    raise InvalidParameterError(\n",
            "sklearn.utils._param_validation.InvalidParameterError: The 'min_samples_split' parameter of DecisionTreeClassifier must be an int in the range [2, inf) or a float in the range (0.0, 1.0]. Got 1 instead.\n",
            "\n",
            "  warnings.warn(some_fits_failed_message, FitFailedWarning)\n",
            "/usr/local/lib/python3.10/dist-packages/sklearn/model_selection/_search.py:952: UserWarning: One or more of the test scores are non-finite: [0.86203543 0.86203524 0.86453672 0.8639598  0.86588399 0.85934256\n",
            " 0.86184275 0.86646369 0.86319038 0.86780928 0.85972662 0.86184441\n",
            " 0.86338306 0.86145813 0.86472921 0.86145739 0.86761605 0.86261272\n",
            " 0.86107333 0.8637686  0.86511439 0.86723162 0.86184312 0.86665322\n",
            " 0.86165044 0.86049696 0.86203598 0.86780854 0.86203543 0.86877156\n",
            " 0.86299919 0.86819334 0.86165266 0.86242023 0.86203561 0.86299752\n",
            " 0.86261309 0.86107481 0.86857833 0.86299752 0.86857814 0.86203543\n",
            " 0.86704061 0.86261513 0.86434497 0.85972755 0.8678091  0.86357537\n",
            " 0.8624206  0.86203709 0.86203543 0.86742374 0.86607629 0.86838639\n",
            " 0.86088028 0.861075   0.86203543 0.86357555 0.86607814 0.87011827\n",
            " 0.86684645 0.86780928 0.86145739 0.86242023 0.85972662 0.86261327\n",
            "        nan 0.86703913 0.8643446  0.86280503 0.86549974 0.86530632\n",
            " 0.86780854 0.86203543 0.85934367 0.86261272 0.86299826 0.86261253\n",
            " 0.86242023 0.86203543 0.86222773 0.86280558 0.86588621 0.85972662\n",
            "        nan 0.86145739 0.86184293 0.86665433 0.86203543        nan\n",
            " 0.86203543 0.86203543 0.86145813 0.86184275 0.8620358  0.86299752\n",
            "        nan 0.86800122 0.86299752        nan]\n",
            "  warnings.warn(\n"
          ]
        }
      ]
    }
  ]
}