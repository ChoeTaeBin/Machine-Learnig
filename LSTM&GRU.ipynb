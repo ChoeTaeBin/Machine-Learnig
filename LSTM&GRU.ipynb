{
  "nbformat": 4,
  "nbformat_minor": 0,
  "metadata": {
    "colab": {
      "provenance": [],
      "gpuType": "T4",
      "authorship_tag": "ABX9TyPYRqKnocZNlXb5vOjSHi2g",
      "include_colab_link": true
    },
    "kernelspec": {
      "name": "python3",
      "display_name": "Python 3"
    },
    "language_info": {
      "name": "python"
    },
    "accelerator": "GPU"
  },
  "cells": [
    {
      "cell_type": "markdown",
      "metadata": {
        "id": "view-in-github",
        "colab_type": "text"
      },
      "source": [
        "<a href=\"https://colab.research.google.com/github/ChoeTaeBin/Machine-Learnig/blob/main/LSTM%26GRU.ipynb\" target=\"_parent\"><img src=\"https://colab.research.google.com/assets/colab-badge.svg\" alt=\"Open In Colab\"/></a>"
      ]
    },
    {
      "cell_type": "markdown",
      "source": [
        "기본적인 simple rnn을 사용하면 시퀀스가 길어짐에따라 은닉상태에 담긴 정보가 희석되어 멀리 떨어진 토큰의 중요한 정보가 잘 반영되지 않을 수 있다. 이런 문제를 해결하기 위해서 LSTM과 GRU셸이 발명되었다."
      ],
      "metadata": {
        "id": "iF1GghId67Ns"
      }
    },
    {
      "cell_type": "code",
      "source": [
        "#데이터 준비\n",
        "from tensorflow.keras.datasets import imdb\n",
        "from sklearn.model_selection import train_test_split\n",
        "(train_input, train_target), (test_input, test_target) = imdb.load_data(num_words=500)\n",
        "train_input, val_input, train_target, val_target = train_test_split(train_input, train_target, test_size=0.2, random_state = 42)\n",
        "print(train_input.shape, val_input.shape)"
      ],
      "metadata": {
        "colab": {
          "base_uri": "https://localhost:8080/"
        },
        "id": "2nx_3fc566ce",
        "outputId": "64c6d527-447b-4519-b120-008e0aa0bf43"
      },
      "execution_count": 2,
      "outputs": [
        {
          "output_type": "stream",
          "name": "stdout",
          "text": [
            "(20000,) (5000,)\n"
          ]
        }
      ]
    },
    {
      "cell_type": "code",
      "execution_count": 3,
      "metadata": {
        "id": "qJWyvtlM6wjJ"
      },
      "outputs": [],
      "source": [
        "#길이 맞추기\n",
        "from tensorflow.keras.preprocessing.sequence import pad_sequences\n",
        "train_seq = pad_sequences(train_input, maxlen = 100)\n",
        "val_seq = pad_sequences(val_input, maxlen = 100)"
      ]
    },
    {
      "cell_type": "code",
      "source": [
        "#모델 만들기\n",
        "from tensorflow import keras\n",
        "\n",
        "model = keras.Sequential()\n",
        "model.add(keras.layers.Embedding(500, 16, input_length = 100)) #임베딩 층\n",
        "model.add(keras.layers.LSTM(8,dropout=0.3, return_sequences = True)) #연결하려면 모든 은닉상태를 출력 해야함\n",
        "model.add(keras.layers.LSTM(8,dropout = 0.3))\n",
        "model.add(keras.layers.Dense(1, activation = 'sigmoid'))\n",
        "model.summary()"
      ],
      "metadata": {
        "id": "XacQiSzL84Sp",
        "outputId": "b1e2fcff-4bfc-42f8-8120-251a0d88e7fe",
        "colab": {
          "base_uri": "https://localhost:8080/"
        }
      },
      "execution_count": 4,
      "outputs": [
        {
          "output_type": "stream",
          "name": "stdout",
          "text": [
            "Model: \"sequential\"\n",
            "_________________________________________________________________\n",
            " Layer (type)                Output Shape              Param #   \n",
            "=================================================================\n",
            " embedding (Embedding)       (None, 100, 16)           8000      \n",
            "                                                                 \n",
            " lstm (LSTM)                 (None, 100, 8)            800       \n",
            "                                                                 \n",
            " lstm_1 (LSTM)               (None, 8)                 544       \n",
            "                                                                 \n",
            " dense (Dense)               (None, 1)                 9         \n",
            "                                                                 \n",
            "=================================================================\n",
            "Total params: 9353 (36.54 KB)\n",
            "Trainable params: 9353 (36.54 KB)\n",
            "Non-trainable params: 0 (0.00 Byte)\n",
            "_________________________________________________________________\n"
          ]
        }
      ]
    },
    {
      "cell_type": "code",
      "source": [
        "#모델 설정\n",
        "rmsprop = keras.optimizers.RMSprop(learning_rate = 1e-4)\n",
        "model.compile(optimizer=rmsprop, loss='binary_crossentropy',\n",
        "              metrics = ['accuracy'])\n",
        "\n",
        "#모델 훈련\n",
        "checkpoint_cb = keras.callbacks.ModelCheckpoint('best-2rnn-model.h5', save_best_only=True)\n",
        "early_stopping_cb = keras.callbacks.EarlyStopping(patience = 3, restore_best_weights = True)\n",
        "\n",
        "history = model.fit(train_seq, train_target, epochs = 100, batch_size = 64, validation_data = (val_seq, val_target),\n",
        "                    callbacks = [checkpoint_cb, early_stopping_cb])\n"
      ],
      "metadata": {
        "id": "kkXSwKZm_FJq",
        "outputId": "95b9ec84-1e3a-4080-d190-6aba25951126",
        "colab": {
          "base_uri": "https://localhost:8080/"
        }
      },
      "execution_count": 6,
      "outputs": [
        {
          "output_type": "stream",
          "name": "stdout",
          "text": [
            "Epoch 1/100\n",
            "313/313 [==============================] - 15s 28ms/step - loss: 0.6930 - accuracy: 0.5234 - val_loss: 0.6927 - val_accuracy: 0.5650\n",
            "Epoch 2/100\n",
            "  2/313 [..............................] - ETA: 34s - loss: 0.6932 - accuracy: 0.5312"
          ]
        },
        {
          "output_type": "stream",
          "name": "stderr",
          "text": [
            "/usr/local/lib/python3.10/dist-packages/keras/src/engine/training.py:3103: UserWarning: You are saving your model as an HDF5 file via `model.save()`. This file format is considered legacy. We recommend using instead the native Keras format, e.g. `model.save('my_model.keras')`.\n",
            "  saving_api.save_model(\n"
          ]
        },
        {
          "output_type": "stream",
          "name": "stdout",
          "text": [
            "313/313 [==============================] - 6s 18ms/step - loss: 0.6922 - accuracy: 0.5702 - val_loss: 0.6914 - val_accuracy: 0.5998\n",
            "Epoch 3/100\n",
            "313/313 [==============================] - 5s 17ms/step - loss: 0.6889 - accuracy: 0.6123 - val_loss: 0.6846 - val_accuracy: 0.6492\n",
            "Epoch 4/100\n",
            "313/313 [==============================] - 4s 13ms/step - loss: 0.6710 - accuracy: 0.6542 - val_loss: 0.6473 - val_accuracy: 0.6830\n",
            "Epoch 5/100\n",
            "313/313 [==============================] - 5s 14ms/step - loss: 0.6078 - accuracy: 0.6967 - val_loss: 0.5751 - val_accuracy: 0.7190\n",
            "Epoch 6/100\n",
            "313/313 [==============================] - 4s 13ms/step - loss: 0.5675 - accuracy: 0.7221 - val_loss: 0.5504 - val_accuracy: 0.7350\n",
            "Epoch 7/100\n",
            "313/313 [==============================] - 4s 12ms/step - loss: 0.5423 - accuracy: 0.7416 - val_loss: 0.5285 - val_accuracy: 0.7508\n",
            "Epoch 8/100\n",
            "313/313 [==============================] - 4s 14ms/step - loss: 0.5239 - accuracy: 0.7528 - val_loss: 0.5136 - val_accuracy: 0.7582\n",
            "Epoch 9/100\n",
            "313/313 [==============================] - 4s 13ms/step - loss: 0.5111 - accuracy: 0.7600 - val_loss: 0.5047 - val_accuracy: 0.7642\n",
            "Epoch 10/100\n",
            "313/313 [==============================] - 4s 13ms/step - loss: 0.4997 - accuracy: 0.7690 - val_loss: 0.4898 - val_accuracy: 0.7750\n",
            "Epoch 11/100\n",
            "313/313 [==============================] - 4s 14ms/step - loss: 0.4868 - accuracy: 0.7775 - val_loss: 0.4822 - val_accuracy: 0.7756\n",
            "Epoch 12/100\n",
            "313/313 [==============================] - 4s 12ms/step - loss: 0.4792 - accuracy: 0.7833 - val_loss: 0.4764 - val_accuracy: 0.7772\n",
            "Epoch 13/100\n",
            "313/313 [==============================] - 4s 12ms/step - loss: 0.4751 - accuracy: 0.7816 - val_loss: 0.4713 - val_accuracy: 0.7822\n",
            "Epoch 14/100\n",
            "313/313 [==============================] - 5s 14ms/step - loss: 0.4693 - accuracy: 0.7850 - val_loss: 0.4676 - val_accuracy: 0.7810\n",
            "Epoch 15/100\n",
            "313/313 [==============================] - 4s 12ms/step - loss: 0.4665 - accuracy: 0.7851 - val_loss: 0.4642 - val_accuracy: 0.7846\n",
            "Epoch 16/100\n",
            "313/313 [==============================] - 4s 12ms/step - loss: 0.4587 - accuracy: 0.7935 - val_loss: 0.4622 - val_accuracy: 0.7854\n",
            "Epoch 17/100\n",
            "313/313 [==============================] - 5s 15ms/step - loss: 0.4590 - accuracy: 0.7901 - val_loss: 0.4586 - val_accuracy: 0.7842\n",
            "Epoch 18/100\n",
            "313/313 [==============================] - 4s 13ms/step - loss: 0.4550 - accuracy: 0.7896 - val_loss: 0.4564 - val_accuracy: 0.7858\n",
            "Epoch 19/100\n",
            "313/313 [==============================] - 4s 12ms/step - loss: 0.4510 - accuracy: 0.7952 - val_loss: 0.4572 - val_accuracy: 0.7860\n",
            "Epoch 20/100\n",
            "313/313 [==============================] - 5s 15ms/step - loss: 0.4506 - accuracy: 0.7926 - val_loss: 0.4527 - val_accuracy: 0.7896\n",
            "Epoch 21/100\n",
            "313/313 [==============================] - 4s 12ms/step - loss: 0.4470 - accuracy: 0.7963 - val_loss: 0.4520 - val_accuracy: 0.7868\n",
            "Epoch 22/100\n",
            "313/313 [==============================] - 4s 12ms/step - loss: 0.4444 - accuracy: 0.7972 - val_loss: 0.4501 - val_accuracy: 0.7898\n",
            "Epoch 23/100\n",
            "313/313 [==============================] - 4s 14ms/step - loss: 0.4444 - accuracy: 0.7962 - val_loss: 0.4515 - val_accuracy: 0.7902\n",
            "Epoch 24/100\n",
            "313/313 [==============================] - 4s 13ms/step - loss: 0.4419 - accuracy: 0.7983 - val_loss: 0.4484 - val_accuracy: 0.7916\n",
            "Epoch 25/100\n",
            "313/313 [==============================] - 4s 12ms/step - loss: 0.4413 - accuracy: 0.7979 - val_loss: 0.4483 - val_accuracy: 0.7900\n",
            "Epoch 26/100\n",
            "313/313 [==============================] - 4s 14ms/step - loss: 0.4387 - accuracy: 0.7982 - val_loss: 0.4458 - val_accuracy: 0.7894\n",
            "Epoch 27/100\n",
            "313/313 [==============================] - 4s 12ms/step - loss: 0.4384 - accuracy: 0.7980 - val_loss: 0.4481 - val_accuracy: 0.7886\n",
            "Epoch 28/100\n",
            "313/313 [==============================] - 4s 13ms/step - loss: 0.4360 - accuracy: 0.8028 - val_loss: 0.4456 - val_accuracy: 0.7936\n",
            "Epoch 29/100\n",
            "313/313 [==============================] - 5s 15ms/step - loss: 0.4369 - accuracy: 0.8001 - val_loss: 0.4441 - val_accuracy: 0.7942\n",
            "Epoch 30/100\n",
            "313/313 [==============================] - 4s 12ms/step - loss: 0.4342 - accuracy: 0.8016 - val_loss: 0.4435 - val_accuracy: 0.7912\n",
            "Epoch 31/100\n",
            "313/313 [==============================] - 4s 12ms/step - loss: 0.4334 - accuracy: 0.8019 - val_loss: 0.4432 - val_accuracy: 0.7956\n",
            "Epoch 32/100\n",
            "313/313 [==============================] - 5s 16ms/step - loss: 0.4326 - accuracy: 0.8022 - val_loss: 0.4456 - val_accuracy: 0.7898\n",
            "Epoch 33/100\n",
            "313/313 [==============================] - 5s 14ms/step - loss: 0.4284 - accuracy: 0.8037 - val_loss: 0.4461 - val_accuracy: 0.7946\n",
            "Epoch 34/100\n",
            "313/313 [==============================] - 4s 12ms/step - loss: 0.4309 - accuracy: 0.8054 - val_loss: 0.4439 - val_accuracy: 0.7892\n"
          ]
        }
      ]
    },
    {
      "cell_type": "code",
      "source": [
        "import matplotlib.pyplot as plt\n",
        "\n",
        "plt.plot(history.history['loss'])\n",
        "plt.plot(history.history['val_loss'])\n",
        "plt.xlabel('epoch')\n",
        "plt.ylabel('loss')\n",
        "plt.legend(['train', 'val'])\n",
        "plt.show()"
      ],
      "metadata": {
        "id": "5Z998gLcBBTJ",
        "outputId": "e4ff5057-81b7-4ae2-cdb6-37e65adb0bc3",
        "colab": {
          "base_uri": "https://localhost:8080/",
          "height": 449
        }
      },
      "execution_count": 7,
      "outputs": [
        {
          "output_type": "display_data",
          "data": {
            "text/plain": [
              "<Figure size 640x480 with 1 Axes>"
            ],
            "image/png": "[encoded data removed]"
          },
          "metadata": {}
        }
      ]
    },
    {
      "cell_type": "markdown",
      "source": [
        "GRU는 LSTM을 간소화한 것이다."
      ],
      "metadata": {
        "id": "KYp-whwzEAXd"
      }
    },
    {
      "cell_type": "code",
      "source": [
        "model2 = keras.Sequential()\n",
        "model2.add(keras.layers.Embedding(500, 16, input_length = 100)) #임베딩 층\n",
        "model2.add(keras.layers.GRU(8))\n",
        "model2.add(keras.layers.Dense(1, activation = 'sigmoid'))\n",
        "model2.summary()"
      ],
      "metadata": {
        "id": "IJ-1PpknD_Dw",
        "outputId": "b287d068-85dc-425d-f978-013b2d0eff2a",
        "colab": {
          "base_uri": "https://localhost:8080/"
        }
      },
      "execution_count": 8,
      "outputs": [
        {
          "output_type": "stream",
          "name": "stdout",
          "text": [
            "Model: \"sequential_1\"\n",
            "_________________________________________________________________\n",
            " Layer (type)                Output Shape              Param #   \n",
            "=================================================================\n",
            " embedding_1 (Embedding)     (None, 100, 16)           8000      \n",
            "                                                                 \n",
            " gru (GRU)                   (None, 8)                 624       \n",
            "                                                                 \n",
            " dense_1 (Dense)             (None, 1)                 9         \n",
            "                                                                 \n",
            "=================================================================\n",
            "Total params: 8633 (33.72 KB)\n",
            "Trainable params: 8633 (33.72 KB)\n",
            "Non-trainable params: 0 (0.00 Byte)\n",
            "_________________________________________________________________\n"
          ]
        }
      ]
    },
    {
      "cell_type": "code",
      "source": [
        "#모델 설정\n",
        "rmsprop = keras.optimizers.RMSprop(learning_rate = 1e-4)\n",
        "model2.compile(optimizer=rmsprop, loss='binary_crossentropy',\n",
        "              metrics = ['accuracy'])\n",
        "\n",
        "#모델 훈련\n",
        "checkpoint_cb = keras.callbacks.ModelCheckpoint('best-gru-model.h5', save_best_only=True)\n",
        "early_stopping_cb = keras.callbacks.EarlyStopping(patience = 3, restore_best_weights = True)\n",
        "\n",
        "history = model2.fit(train_seq, train_target, epochs = 100, batch_size = 64, validation_data = (val_seq, val_target),\n",
        "                    callbacks = [checkpoint_cb, early_stopping_cb])"
      ],
      "metadata": {
        "id": "R8zQwBBBEiCF",
        "outputId": "0d7ed811-4116-4c94-940d-49d194aed394",
        "colab": {
          "base_uri": "https://localhost:8080/"
        }
      },
      "execution_count": 10,
      "outputs": [
        {
          "output_type": "stream",
          "name": "stdout",
          "text": [
            "Epoch 1/100\n",
            "313/313 [==============================] - 8s 18ms/step - loss: 0.6929 - accuracy: 0.5182 - val_loss: 0.6921 - val_accuracy: 0.5312\n",
            "Epoch 2/100\n",
            " 24/313 [=>............................] - ETA: 2s - loss: 0.6921 - accuracy: 0.5339"
          ]
        },
        {
          "output_type": "stream",
          "name": "stderr",
          "text": [
            "/usr/local/lib/python3.10/dist-packages/keras/src/engine/training.py:3103: UserWarning: You are saving your model as an HDF5 file via `model.save()`. This file format is considered legacy. We recommend using instead the native Keras format, e.g. `model.save('my_model.keras')`.\n",
            "  saving_api.save_model(\n"
          ]
        },
        {
          "output_type": "stream",
          "name": "stdout",
          "text": [
            "313/313 [==============================] - 3s 9ms/step - loss: 0.6915 - accuracy: 0.5510 - val_loss: 0.6908 - val_accuracy: 0.5658\n",
            "Epoch 3/100\n",
            "313/313 [==============================] - 3s 9ms/step - loss: 0.6897 - accuracy: 0.5699 - val_loss: 0.6890 - val_accuracy: 0.5748\n",
            "Epoch 4/100\n",
            "313/313 [==============================] - 3s 8ms/step - loss: 0.6872 - accuracy: 0.5850 - val_loss: 0.6863 - val_accuracy: 0.5848\n",
            "Epoch 5/100\n",
            "313/313 [==============================] - 3s 11ms/step - loss: 0.6837 - accuracy: 0.5931 - val_loss: 0.6825 - val_accuracy: 0.5928\n",
            "Epoch 6/100\n",
            "313/313 [==============================] - 3s 9ms/step - loss: 0.6788 - accuracy: 0.6023 - val_loss: 0.6772 - val_accuracy: 0.6006\n",
            "Epoch 7/100\n",
            "313/313 [==============================] - 3s 10ms/step - loss: 0.6721 - accuracy: 0.6126 - val_loss: 0.6700 - val_accuracy: 0.6088\n",
            "Epoch 8/100\n",
            "313/313 [==============================] - 3s 10ms/step - loss: 0.6628 - accuracy: 0.6234 - val_loss: 0.6601 - val_accuracy: 0.6220\n",
            "Epoch 9/100\n",
            "313/313 [==============================] - 3s 11ms/step - loss: 0.6493 - accuracy: 0.6370 - val_loss: 0.6453 - val_accuracy: 0.6356\n",
            "Epoch 10/100\n",
            "313/313 [==============================] - 3s 8ms/step - loss: 0.6285 - accuracy: 0.6612 - val_loss: 0.6197 - val_accuracy: 0.6682\n",
            "Epoch 11/100\n",
            "313/313 [==============================] - 2s 8ms/step - loss: 0.5885 - accuracy: 0.6937 - val_loss: 0.5681 - val_accuracy: 0.7128\n",
            "Epoch 12/100\n",
            "313/313 [==============================] - 3s 8ms/step - loss: 0.5352 - accuracy: 0.7338 - val_loss: 0.5274 - val_accuracy: 0.7418\n",
            "Epoch 13/100\n",
            "313/313 [==============================] - 3s 10ms/step - loss: 0.5079 - accuracy: 0.7541 - val_loss: 0.5104 - val_accuracy: 0.7544\n",
            "Epoch 14/100\n",
            "313/313 [==============================] - 3s 9ms/step - loss: 0.4914 - accuracy: 0.7674 - val_loss: 0.4971 - val_accuracy: 0.7606\n",
            "Epoch 15/100\n",
            "313/313 [==============================] - 3s 8ms/step - loss: 0.4776 - accuracy: 0.7763 - val_loss: 0.4843 - val_accuracy: 0.7704\n",
            "Epoch 16/100\n",
            "313/313 [==============================] - 3s 9ms/step - loss: 0.4670 - accuracy: 0.7837 - val_loss: 0.4764 - val_accuracy: 0.7756\n",
            "Epoch 17/100\n",
            "313/313 [==============================] - 3s 8ms/step - loss: 0.4584 - accuracy: 0.7904 - val_loss: 0.4697 - val_accuracy: 0.7836\n",
            "Epoch 18/100\n",
            "313/313 [==============================] - 3s 10ms/step - loss: 0.4508 - accuracy: 0.7946 - val_loss: 0.4640 - val_accuracy: 0.7852\n",
            "Epoch 19/100\n",
            "313/313 [==============================] - 3s 9ms/step - loss: 0.4454 - accuracy: 0.7970 - val_loss: 0.4601 - val_accuracy: 0.7846\n",
            "Epoch 20/100\n",
            "313/313 [==============================] - 3s 8ms/step - loss: 0.4407 - accuracy: 0.8008 - val_loss: 0.4578 - val_accuracy: 0.7844\n",
            "Epoch 21/100\n",
            "313/313 [==============================] - 3s 9ms/step - loss: 0.4367 - accuracy: 0.8035 - val_loss: 0.4539 - val_accuracy: 0.7906\n",
            "Epoch 22/100\n",
            "313/313 [==============================] - 3s 11ms/step - loss: 0.4332 - accuracy: 0.8043 - val_loss: 0.4515 - val_accuracy: 0.7884\n",
            "Epoch 23/100\n",
            "313/313 [==============================] - 3s 8ms/step - loss: 0.4306 - accuracy: 0.8069 - val_loss: 0.4496 - val_accuracy: 0.7898\n",
            "Epoch 24/100\n",
            "313/313 [==============================] - 3s 8ms/step - loss: 0.4285 - accuracy: 0.8082 - val_loss: 0.4505 - val_accuracy: 0.7952\n",
            "Epoch 25/100\n",
            "313/313 [==============================] - 3s 9ms/step - loss: 0.4257 - accuracy: 0.8108 - val_loss: 0.4484 - val_accuracy: 0.7892\n",
            "Epoch 26/100\n",
            "313/313 [==============================] - 4s 11ms/step - loss: 0.4245 - accuracy: 0.8106 - val_loss: 0.4460 - val_accuracy: 0.7932\n",
            "Epoch 27/100\n",
            "313/313 [==============================] - 3s 8ms/step - loss: 0.4229 - accuracy: 0.8116 - val_loss: 0.4469 - val_accuracy: 0.7894\n",
            "Epoch 28/100\n",
            "313/313 [==============================] - 3s 9ms/step - loss: 0.4217 - accuracy: 0.8130 - val_loss: 0.4509 - val_accuracy: 0.7878\n",
            "Epoch 29/100\n",
            "313/313 [==============================] - 3s 8ms/step - loss: 0.4206 - accuracy: 0.8122 - val_loss: 0.4447 - val_accuracy: 0.7950\n",
            "Epoch 30/100\n",
            "313/313 [==============================] - 3s 10ms/step - loss: 0.4196 - accuracy: 0.8127 - val_loss: 0.4437 - val_accuracy: 0.7944\n",
            "Epoch 31/100\n",
            "313/313 [==============================] - 3s 9ms/step - loss: 0.4185 - accuracy: 0.8153 - val_loss: 0.4455 - val_accuracy: 0.7890\n",
            "Epoch 32/100\n",
            "313/313 [==============================] - 3s 9ms/step - loss: 0.4176 - accuracy: 0.8144 - val_loss: 0.4434 - val_accuracy: 0.7926\n",
            "Epoch 33/100\n",
            "313/313 [==============================] - 3s 8ms/step - loss: 0.4171 - accuracy: 0.8145 - val_loss: 0.4436 - val_accuracy: 0.7972\n",
            "Epoch 34/100\n",
            "313/313 [==============================] - 3s 9ms/step - loss: 0.4165 - accuracy: 0.8161 - val_loss: 0.4427 - val_accuracy: 0.7950\n",
            "Epoch 35/100\n",
            "313/313 [==============================] - 3s 11ms/step - loss: 0.4160 - accuracy: 0.8153 - val_loss: 0.4437 - val_accuracy: 0.7906\n",
            "Epoch 36/100\n",
            "313/313 [==============================] - 3s 9ms/step - loss: 0.4155 - accuracy: 0.8148 - val_loss: 0.4465 - val_accuracy: 0.7888\n",
            "Epoch 37/100\n",
            "313/313 [==============================] - 3s 8ms/step - loss: 0.4149 - accuracy: 0.8152 - val_loss: 0.4454 - val_accuracy: 0.7874\n"
          ]
        }
      ]
    },
    {
      "cell_type": "code",
      "source": [
        "plt.plot(history.history['loss'])\n",
        "plt.plot(history.history['val_loss'])\n",
        "plt.xlabel('epoch')\n",
        "plt.ylabel('loss')\n",
        "plt.legend(['train', 'val'])\n",
        "plt.show()"
      ],
      "metadata": {
        "id": "X6RxieQNFtTL",
        "outputId": "c6f27b65-46c7-41ce-f42d-a9fe05153fe8",
        "colab": {
          "base_uri": "https://localhost:8080/",
          "height": 449
        }
      },
      "execution_count": 11,
      "outputs": [
        {
          "output_type": "display_data",
          "data": {
            "text/plain": [
              "<Figure size 640x480 with 1 Axes>"
            ],
            "image/png": "[encoded data removed]"
          },
          "metadata": {}
        }
      ]
    },
    {
      "cell_type": "code",
      "source": [
        "#최종평가\n",
        "test_seq = pad_sequences(test_input, maxlen=100)\n",
        "rnn_model = keras.models.load_model('best-2rnn-model.h5')\n",
        "rnn_model.evaluate(test_seq, test_target)"
      ],
      "metadata": {
        "id": "daMqGJtmFzvv",
        "outputId": "9ab0695f-25ea-46ff-a62b-d3aee0f661b1",
        "colab": {
          "base_uri": "https://localhost:8080/"
        }
      },
      "execution_count": 12,
      "outputs": [
        {
          "output_type": "stream",
          "name": "stdout",
          "text": [
            "782/782 [==============================] - 6s 6ms/step - loss: 0.4378 - accuracy: 0.7936\n"
          ]
        },
        {
          "output_type": "execute_result",
          "data": {
            "text/plain": [
              "[0.43779629468917847, 0.7935600280761719]"
            ]
          },
          "metadata": {},
          "execution_count": 12
        }
      ]
    }
  ]
}